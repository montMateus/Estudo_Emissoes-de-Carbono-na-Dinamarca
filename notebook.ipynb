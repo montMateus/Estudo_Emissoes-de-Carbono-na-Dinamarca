{
 "cells": [
  {
   "cell_type": "code",
   "execution_count": null,
   "metadata": {},
   "outputs": [],
   "source": [
    "import pandas as pd\n",
    "from sqlalchemy import create_engine, text"
   ]
  },
  {
   "cell_type": "code",
   "execution_count": null,
   "metadata": {},
   "outputs": [],
   "source": [
    "df_denmark_2021 = pd.read_csv('denmark/DK_2021_hourly.csv')\n",
    "df_denmark_2022 = pd.read_csv('denmark/DK_2022_hourly.csv')\n",
    "df_denmark_2023 = pd.read_csv('denmark/DK_2023_hourly.csv')\n",
    "df_denmark_2024 = pd.read_csv('denmark/DK_2024_hourly.csv')\n",
    "\n",
    "df_denmark_2021['Datetime (UTC)'] = pd.to_datetime(df_denmark_2021['Datetime (UTC)'])\n",
    "df_denmark_2022['Datetime (UTC)'] = pd.to_datetime(df_denmark_2022['Datetime (UTC)'])\n",
    "df_denmark_2023['Datetime (UTC)'] = pd.to_datetime(df_denmark_2023['Datetime (UTC)'])\n",
    "df_denmark_2024['Datetime (UTC)'] = pd.to_datetime(df_denmark_2024['Datetime (UTC)'])"
   ]
  },
  {
   "cell_type": "code",
   "execution_count": null,
   "metadata": {},
   "outputs": [],
   "source": [
    "df_finland_2021 = pd.read_csv('finland/FI_2021_hourly.csv')\n",
    "df_finland_2022 = pd.read_csv('finland/FI_2022_hourly.csv')\n",
    "df_finland_2023 = pd.read_csv('finland/FI_2023_hourly.csv')\n",
    "df_finland_2024 = pd.read_csv('finland/FI_2024_hourly.csv')\n",
    "\n",
    "df_finland_2021['Datetime (UTC)'] = pd.to_datetime(df_finland_2021['Datetime (UTC)'])\n",
    "df_finland_2022['Datetime (UTC)'] = pd.to_datetime(df_finland_2022['Datetime (UTC)'])\n",
    "df_finland_2023['Datetime (UTC)'] = pd.to_datetime(df_finland_2023['Datetime (UTC)'])\n",
    "df_finland_2024['Datetime (UTC)'] = pd.to_datetime(df_finland_2024['Datetime (UTC)'])"
   ]
  },
  {
   "cell_type": "code",
   "execution_count": null,
   "metadata": {},
   "outputs": [],
   "source": [
    "df_iceland_2021 = pd.read_csv('iceland/IS_2021_hourly.csv')\n",
    "df_iceland_2022 = pd.read_csv('iceland/IS_2022_hourly.csv')\n",
    "df_iceland_2023 = pd.read_csv('iceland/IS_2023_hourly.csv')\n",
    "df_iceland_2024 = pd.read_csv('iceland/IS_2024_hourly.csv')\n",
    "\n",
    "df_iceland_2021['Datetime (UTC)'] = pd.to_datetime(df_iceland_2021['Datetime (UTC)'])\n",
    "df_iceland_2022['Datetime (UTC)'] = pd.to_datetime(df_iceland_2022['Datetime (UTC)'])\n",
    "df_iceland_2023['Datetime (UTC)'] = pd.to_datetime(df_iceland_2023['Datetime (UTC)'])\n",
    "df_iceland_2024['Datetime (UTC)'] = pd.to_datetime(df_iceland_2024['Datetime (UTC)'])"
   ]
  },
  {
   "cell_type": "code",
   "execution_count": null,
   "metadata": {},
   "outputs": [],
   "source": [
    "df_norway_2021 = pd.read_csv('norway/NO_2021_hourly.csv')\n",
    "df_norway_2022 = pd.read_csv('norway/NO_2022_hourly.csv')\n",
    "df_norway_2023 = pd.read_csv('norway/NO_2023_hourly.csv')\n",
    "df_norway_2024 = pd.read_csv('norway/NO_2024_hourly.csv')\n",
    "\n",
    "df_norway_2021['Datetime (UTC)'] = pd.to_datetime(df_norway_2021['Datetime (UTC)'])\n",
    "df_norway_2022['Datetime (UTC)'] = pd.to_datetime(df_norway_2022['Datetime (UTC)'])\n",
    "df_norway_2023['Datetime (UTC)'] = pd.to_datetime(df_norway_2023['Datetime (UTC)'])\n",
    "df_norway_2024['Datetime (UTC)'] = pd.to_datetime(df_norway_2024['Datetime (UTC)'])"
   ]
  },
  {
   "cell_type": "code",
   "execution_count": null,
   "metadata": {},
   "outputs": [],
   "source": [
    "df_sweden_2021 = pd.read_csv('sweden/SE_2021_hourly.csv')\n",
    "df_sweden_2022 = pd.read_csv('sweden/SE_2022_hourly.csv')\n",
    "df_sweden_2023 = pd.read_csv('sweden/SE_2023_hourly.csv')\n",
    "df_sweden_2024 = pd.read_csv('sweden/SE_2024_hourly.csv')\n",
    "\n",
    "df_sweden_2021['Datetime (UTC)'] = pd.to_datetime(df_sweden_2021['Datetime (UTC)'])\n",
    "df_sweden_2022['Datetime (UTC)'] = pd.to_datetime(df_sweden_2022['Datetime (UTC)'])\n",
    "df_sweden_2023['Datetime (UTC)'] = pd.to_datetime(df_sweden_2023['Datetime (UTC)'])\n",
    "df_sweden_2024['Datetime (UTC)'] = pd.to_datetime(df_sweden_2024['Datetime (UTC)'])"
   ]
  },
  {
   "cell_type": "code",
   "execution_count": null,
   "metadata": {},
   "outputs": [],
   "source": [
    "dataframes = {\n",
    "    'denmark': {\n",
    "        2021: df_denmark_2021,\n",
    "        2022: df_denmark_2022,\n",
    "        2023: df_denmark_2023,\n",
    "        2024: df_denmark_2024,\n",
    "    },\n",
    "    'finland': {\n",
    "        2021: df_finland_2021,\n",
    "        2022: df_finland_2022,\n",
    "        2023: df_finland_2023,\n",
    "        2024: df_finland_2024,\n",
    "    },\n",
    "    'iceland': {\n",
    "        2021: df_iceland_2021,\n",
    "        2022: df_iceland_2022,\n",
    "        2023: df_iceland_2023,\n",
    "        2024: df_iceland_2024,\n",
    "    },\n",
    "    'norway': {\n",
    "        2021: df_norway_2021,\n",
    "        2022: df_norway_2022,\n",
    "        2023: df_norway_2023,\n",
    "        2024: df_norway_2024,\n",
    "    },\n",
    "    'sweden': {\n",
    "        2021: df_sweden_2021,\n",
    "        2022: df_sweden_2022,\n",
    "        2023: df_sweden_2023,\n",
    "        2024: df_sweden_2024,\n",
    "    }\n",
    "}\n",
    "\n",
    "for country, years in dataframes.items():\n",
    "    for year, df in years.items():\n",
    "        print(f'{country} - {year}: {df.shape}')\n"
   ]
  },
  {
   "cell_type": "code",
   "execution_count": null,
   "metadata": {},
   "outputs": [],
   "source": [
    "db_user = 'postgres'\n",
    "db_password = '123456'\n",
    "db_host = 'localhost'\n",
    "db_port = '5432'\n",
    "db_name = 'nordic_co2'\n",
    "\n",
    "engine = create_engine(f'postgresql+psycopg2://{db_user}:{db_password}@{db_host}:{db_port}/{db_name}')\n",
    "\n",
    "\n",
    "with engine.connect() as conn:\n",
    "    for country in dataframes.keys():\n",
    "        conn.execute(text(f'CREATE SCHEMA IF NOT EXISTS {country};'))\n",
    "    conn.commit()\n",
    "\n",
    "for country, years in dataframes.items():\n",
    "    for year, df in years.items():\n",
    "        table_name = f'year_{year}_hourly'\n",
    "\n",
    "        df = df.rename(columns={\n",
    "            \"Datetime (UTC)\": \"datetime_utc\",\n",
    "            \"Country\": \"country\",\n",
    "            \"Zone Name\": \"zone_name\",\n",
    "            \"Zone Id\": \"zone_id\",\n",
    "            \"Carbon Intensity gCO₂eq/kWh (direct)\": \"carbon_intensity_direct\",\n",
    "            \"Carbon Intensity gCO₂eq/kWh (LCA)\": \"carbon_intensity_lca\",\n",
    "            \"Low Carbon Percentage\": \"low_carbon_percentage\",\n",
    "            \"Renewable Percentage\": \"renewable_percentage\",\n",
    "            \"Data Source\": \"data_source\",\n",
    "            \"Data Estimated\": \"data_estimated\",\n",
    "            \"Data Estimation Method\": \"data_estimation_method\"\n",
    "        })\n",
    "        \n",
    "        df.to_sql(table_name, con=engine, schema=country, if_exists='replace', index=False)\n",
    "        print(f'Tabela \"{country}.{table_name}\" carregada com sucesso!')\n"
   ]
  }
 ],
 "metadata": {
  "kernelspec": {
   "display_name": "base",
   "language": "python",
   "name": "python3"
  },
  "language_info": {
   "codemirror_mode": {
    "name": "ipython",
    "version": 3
   },
   "file_extension": ".py",
   "mimetype": "text/x-python",
   "name": "python",
   "nbconvert_exporter": "python",
   "pygments_lexer": "ipython3",
   "version": "3.12.7"
  }
 },
 "nbformat": 4,
 "nbformat_minor": 2
}
